{
 "cells": [
  {
   "cell_type": "code",
   "execution_count": null,
   "metadata": {},
   "outputs": [],
   "source": [
    "import calendar\n",
    "from datetime import datetime\n",
    "from pytz import timezone\n",
    "\n",
    "\n",
    "localtz = timezone('Asia/Dhaka')\n",
    "date_format = '%Y-%m-%d %H:%M:%S'\n",
    "months = [\n",
    "    '2019-08',\n",
    "    '2019-09',\n",
    "    '2019-10',\n",
    "    '2019-11',\n",
    "    '2019-12',\n",
    "    '2020-01',\n",
    "    '2020-02',\n",
    "    '2020-03',\n",
    "    '2020-04',\n",
    "    '2020-05',\n",
    "    '2020-06'\n",
    "]\n",
    "\n",
    "for m in months:\n",
    "    year_, month_ = m.split('-')\n",
    "    day, last_date = calendar.monthrange(int(year_), int(month_))\n",
    "    start_date = localtz.localize(datetime.strptime(f\"{m}-01 00:00:00\", date_format))\n",
    "    stop_date = localtz.localize(datetime.strptime(f\"{m}-{last_date} 23:59:59\", date_format))\n",
    "    qs = Sales.objects.filter(created_at__gte=start_date, created_at__lte=stop_date, amount__gt=0, amount__lt=10000)\n",
    "    print(f\"{start_date.strftime('%Y-%m-%d')} - {stop_date}\")\n",
    "    print(\"Invoice count:\", qs.count())\n",
    "    print(qs.aggregate(Avg('amount'), Sum('amount'), Max('amount'), Min('amount')))\n",
    "    print(\"-\"*80)"
   ]
  },
  {
   "cell_type": "code",
   "execution_count": null,
   "metadata": {},
   "outputs": [],
   "source": []
  }
 ],
 "metadata": {
  "kernelspec": {
   "display_name": "Django Shell-Plus",
   "language": "python",
   "name": "django_extensions"
  },
  "language_info": {
   "codemirror_mode": {
    "name": "ipython",
    "version": 3
   },
   "file_extension": ".py",
   "mimetype": "text/x-python",
   "name": "python",
   "nbconvert_exporter": "python",
   "pygments_lexer": "ipython3",
   "version": "3.6.8"
  }
 },
 "nbformat": 4,
 "nbformat_minor": 4
}